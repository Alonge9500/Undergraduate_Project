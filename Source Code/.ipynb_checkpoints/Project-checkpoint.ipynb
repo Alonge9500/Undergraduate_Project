{
 "cells": [
  {
   "cell_type": "markdown",
   "metadata": {},
   "source": [
    "# Toxic Checker (A dictionary-based assistant tool)\n",
    "### By (ALONGE DANIEL OLUWASGUN)\n",
    "\n",
    "* The goal of this project is to design a mini tool to check for toxicity in a user input and prevent it from being input. and also once the whole sentence has been complete also check for the toxicity level of the sentence"
   ]
  },
  {
   "cell_type": "markdown",
   "metadata": {},
   "source": [
    "## Import The required Library"
   ]
  },
  {
   "cell_type": "code",
   "execution_count": 5,
   "metadata": {},
   "outputs": [],
   "source": [
    "import pygame,sys"
   ]
  },
  {
   "cell_type": "markdown",
   "metadata": {},
   "source": [
    "## The Toxic Dictionary "
   ]
  },
  {
   "cell_type": "code",
   "execution_count": 8,
   "metadata": {},
   "outputs": [],
   "source": [
    "toxic_dictionary =['fuck','motherfucker','asshole','bastard'] ## A list of most frequently used toxic words\n",
    "\n",
    "def toxic_checker(text):\n",
    "    \"\"\"\n",
    "    The Toxic takes in an which is triggerered on click of back space event check for the presence of the word in the toxic dictionary\n",
    "    args: text - A string of word\n",
    "    \"\"\"\n",
    "    text=text.lower()\n",
    "    text_list = text.split()\n",
    "    text_len = len(text)\n",
    "    last_word_length = len(text_list[-1])\n",
    "    if text_list[-1] in toxic_dictionary:\n",
    "        text = text[:text_len-last_word_length]\n",
    "    else:\n",
    "        return text\n",
    "    return text\n"
   ]
  },
  {
   "cell_type": "markdown",
   "metadata": {},
   "source": [
    "### Initializing pygame screen\n",
    "> The base of tool will be the pygame screen that will keep track of the continus keyboard events via a continuous while loop"
   ]
  },
  {
   "cell_type": "code",
   "execution_count": 10,
   "metadata": {},
   "outputs": [
    {
     "name": "stdout",
     "output_type": "stream",
     "text": [
      "i love you soso much\r\n"
     ]
    }
   ],
   "source": [
    "## Setting up the pygame screen\n",
    "pygame.init()\n",
    "clock = pygame.time.Clock()\n",
    "screen = pygame.display.set_mode([400,150])\n",
    "base_font = pygame.font.Font(None,22)\n",
    "user_text = ''\n",
    "\n",
    "\n",
    "while True:\n",
    "    try:\n",
    "        screen.fill((30,30,30))\n",
    "        text_surface = base_font.render(user_text,True,(200,200,200))\n",
    "        screen.blit(text_surface,(0,0))\n",
    "\n",
    "\n",
    "        pygame.display.flip()\n",
    "        clock.tick(60)\n",
    "\n",
    "        for event in pygame.event.get():\n",
    "            if event.type == pygame.QUIT:\n",
    "                user_text=\"\"\n",
    "                pygame.quit()\n",
    "                sys.exit()\n",
    "\n",
    "            if event.type == pygame.KEYDOWN:\n",
    "                if event.key == pygame.K_SPACE:\n",
    "                    user_text=toxic_checker(user_text)\n",
    "\n",
    "                if event.key == pygame.K_BACKSPACE:\n",
    "                    user_text = user_text[:-1]\n",
    "\n",
    "                else:\n",
    "                    user_text+= event.unicode\n",
    "\n",
    "        if event.type == pygame.KEYDOWN:\n",
    "            if event.key == pygame.K_RETURN:\n",
    "                break\n",
    "    except:\n",
    "        print(\"App successfully shut down\")\n",
    "        break\n",
    "                        \n",
    "\n",
    "            \n",
    "print(user_text)\n",
    "pygame.quit()\n"
   ]
  },
  {
   "cell_type": "code",
   "execution_count": 11,
   "metadata": {},
   "outputs": [],
   "source": [
    "from nltk.sentiment import SentimentIntensityAnalyzer"
   ]
  },
  {
   "cell_type": "code",
   "execution_count": 12,
   "metadata": {},
   "outputs": [],
   "source": [
    "analyser = SentimentIntensityAnalyzer()"
   ]
  },
  {
   "cell_type": "code",
   "execution_count": 22,
   "metadata": {},
   "outputs": [
    {
     "data": {
      "text/plain": [
       "0.8012"
      ]
     },
     "execution_count": 22,
     "metadata": {},
     "output_type": "execute_result"
    }
   ],
   "source": [
    "analyser.polarity_scores('Wow, NLTK is really powerful!')['compound']"
   ]
  },
  {
   "cell_type": "code",
   "execution_count": null,
   "metadata": {},
   "outputs": [],
   "source": []
  }
 ],
 "metadata": {
  "kernelspec": {
   "display_name": "Python 3",
   "language": "python",
   "name": "python3"
  },
  "language_info": {
   "codemirror_mode": {
    "name": "ipython",
    "version": 3
   },
   "file_extension": ".py",
   "mimetype": "text/x-python",
   "name": "python",
   "nbconvert_exporter": "python",
   "pygments_lexer": "ipython3",
   "version": "3.7.4"
  }
 },
 "nbformat": 4,
 "nbformat_minor": 4
}
